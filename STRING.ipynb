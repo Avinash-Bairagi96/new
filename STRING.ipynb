{
 "cells": [
  {
   "cell_type": "code",
   "execution_count": 1,
   "id": "08d70dab",
   "metadata": {},
   "outputs": [
    {
     "name": "stdout",
     "output_type": "stream",
     "text": [
      "The addition of A ,B and C is : 60\n"
     ]
    }
   ],
   "source": [
    "A =10\n",
    "B = 20\n",
    "C = 30\n",
    "print(\"The addition of A ,B and C is :\",A+B+C)"
   ]
  },
  {
   "cell_type": "code",
   "execution_count": 2,
   "id": "b4260c8d",
   "metadata": {},
   "outputs": [
    {
     "name": "stdout",
     "output_type": "stream",
     "text": [
      "the addition of 10,20 and 30 is: 60\n"
     ]
    }
   ],
   "source": [
    "print(f'the addition of {A},{B} and {C} is:',A+B+C)"
   ]
  },
  {
   "cell_type": "code",
   "execution_count": 7,
   "id": "a5b41a13",
   "metadata": {},
   "outputs": [
    {
     "name": "stdout",
     "output_type": "stream",
     "text": [
      "The addition of 10+20is 30\n"
     ]
    }
   ],
   "source": [
    "print(\"The addition of {}+{}is {}\".format(A,B,C))"
   ]
  },
  {
   "cell_type": "code",
   "execution_count": 38,
   "id": "88579a51",
   "metadata": {},
   "outputs": [
    {
     "data": {
      "text/plain": [
       "'       python is very easy easy easy easy language #########               '"
      ]
     },
     "execution_count": 38,
     "metadata": {},
     "output_type": "execute_result"
    }
   ],
   "source": [
    "s = \"          python is very easy easy easy easy language #########               \"\n",
    "s.replace('#',\"*\",3)\n",
    "s.replace(\" \",'',3)"
   ]
  },
  {
   "cell_type": "code",
   "execution_count": 31,
   "id": "ded03a84",
   "metadata": {},
   "outputs": [],
   "source": [
    "a =s.split()"
   ]
  },
  {
   "cell_type": "code",
   "execution_count": 32,
   "id": "649842ac",
   "metadata": {},
   "outputs": [
    {
     "data": {
      "text/plain": [
       "'python is very easy language #########'"
      ]
     },
     "execution_count": 32,
     "metadata": {},
     "output_type": "execute_result"
    }
   ],
   "source": [
    "\" \".join(a)"
   ]
  },
  {
   "cell_type": "code",
   "execution_count": 33,
   "id": "b4e5d595",
   "metadata": {},
   "outputs": [
    {
     "data": {
      "text/plain": [
       "'**********p99thon*is*ver99*eas99*lan$ua$e*#########***************'"
      ]
     },
     "execution_count": 33,
     "metadata": {},
     "output_type": "execute_result"
    }
   ],
   "source": [
    "s.replace(\" \",\"*\").replace(\"y\",\"99\").replace(\"g\",\"$\")"
   ]
  },
  {
   "cell_type": "code",
   "execution_count": 41,
   "id": "5674f310",
   "metadata": {},
   "outputs": [
    {
     "data": {
      "text/plain": [
       "4"
      ]
     },
     "execution_count": 41,
     "metadata": {},
     "output_type": "execute_result"
    }
   ],
   "source": [
    "s.count(\"sy\")"
   ]
  },
  {
   "cell_type": "code",
   "execution_count": 42,
   "id": "91447657",
   "metadata": {},
   "outputs": [],
   "source": [
    "str1= '''Data science is an interdisciplinary field that uses scientific methods, processes, algorithms and \n",
    "systems to extract knowledge and insights from noisy, structured and unstructured data, \n",
    "and apply knowledge and actionable insights from data across a broad range of application domains.'''"
   ]
  },
  {
   "cell_type": "code",
   "execution_count": 43,
   "id": "03b04cdd",
   "metadata": {},
   "outputs": [
    {
     "data": {
      "text/plain": [
       "133"
      ]
     },
     "execution_count": 43,
     "metadata": {},
     "output_type": "execute_result"
    }
   ],
   "source": [
    "str1.index('insight')"
   ]
  },
  {
   "cell_type": "code",
   "execution_count": 44,
   "id": "ebbca874",
   "metadata": {},
   "outputs": [
    {
     "data": {
      "text/plain": [
       "'i'"
      ]
     },
     "execution_count": 44,
     "metadata": {},
     "output_type": "execute_result"
    }
   ],
   "source": [
    "str1[133]"
   ]
  },
  {
   "cell_type": "code",
   "execution_count": 45,
   "id": "f1b2fa52",
   "metadata": {},
   "outputs": [
    {
     "data": {
      "text/plain": [
       "213"
      ]
     },
     "execution_count": 45,
     "metadata": {},
     "output_type": "execute_result"
    }
   ],
   "source": [
    "str1.index(\"actionable\")"
   ]
  },
  {
   "cell_type": "code",
   "execution_count": 47,
   "id": "3cafab7d",
   "metadata": {},
   "outputs": [
    {
     "data": {
      "text/plain": [
       "-1"
      ]
     },
     "execution_count": 47,
     "metadata": {},
     "output_type": "execute_result"
    }
   ],
   "source": [
    "str1.find(\"actionable\")\n",
    "str1.find('doom')"
   ]
  }
 ],
 "metadata": {
  "kernelspec": {
   "display_name": "Python 3 (ipykernel)",
   "language": "python",
   "name": "python3"
  },
  "language_info": {
   "codemirror_mode": {
    "name": "ipython",
    "version": 3
   },
   "file_extension": ".py",
   "mimetype": "text/x-python",
   "name": "python",
   "nbconvert_exporter": "python",
   "pygments_lexer": "ipython3",
   "version": "3.9.7"
  }
 },
 "nbformat": 4,
 "nbformat_minor": 5
}
